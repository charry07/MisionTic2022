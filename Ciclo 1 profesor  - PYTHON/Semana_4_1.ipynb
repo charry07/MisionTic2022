{
 "cells": [
  {
   "cell_type": "markdown",
   "metadata": {
    "slideshow": {
     "slide_type": "slide"
    }
   },
   "source": [
    "<center>\n",
    "<h1> Introducción a la programación con Python </h1>\n",
    "<h2> Alberto Mario Ceballos Arroyo </h2>\n",
    "<h2>Ingeniero de Sistemas </h2> \n",
    "</center>"
   ]
  },
  {
   "cell_type": "markdown",
   "metadata": {
    "slideshow": {
     "slide_type": "slide"
    }
   },
   "source": [
    "<center> <h1> Algunos aspectos metodológicos </h1> </center>\n",
    "\n",
    "- Para participar, preferiblemente escribir por el chat o levantar la mano (somos 150).\n",
    "\n",
    "- Recordemos que el temario está disponible si queremos adelantarnos un poco.\n",
    "\n",
    "- La evaluación es automática y se basa en los retos, el resto de actividades de la plataforma son opcionales pero muy recomendadas."
   ]
  },
  {
   "cell_type": "markdown",
   "metadata": {
    "slideshow": {
     "slide_type": "subslide"
    }
   },
   "source": [
    "<center> <img src=\"img/temario.png\"/> </center>"
   ]
  },
  {
   "cell_type": "markdown",
   "metadata": {
    "slideshow": {
     "slide_type": "subslide"
    }
   },
   "source": [
    "<center> <h1> Agenda de la semana 4 </h1> </center>\n",
    "\n",
    "- Día 1:\n",
    "    - Clases derivadas, herencia y polimorfismo.\n",
    "    \n",
    "- Día 2:\n",
    "    - Clase derivada de la clase vector.\n",
    "    \n",
    "- Día 3:\n",
    "    - Análisis de algoritmos."
   ]
  },
  {
   "cell_type": "markdown",
   "metadata": {
    "slideshow": {
     "slide_type": "subslide"
    }
   },
   "source": [
    "<center> <h1> Enlaces de interés </h1> </center>\n",
    "\n",
    "- Enlace de la plataforma: https://lms.misiontic2022udea.com/login\n",
    "\n",
    "- Wiki de Python con muchos recursos en español: https://wiki.python.org/moin/SpanishLanguage\n",
    "\n",
    "- PDF con **muchos** ejercicios: https://www.editorialeidec.com/wp-content/uploads/2020/10/Algoritmos-resueltos-con-Python.pdf\n",
    "\n",
    "- Correo del docente: alceballosa@unal.edu.co \n",
    "\n",
    "- Correo de permanencia: permamenciamisiontic@udea.edu.co\n",
    "\n",
    "- Carpeta del repositorio con muchos ejercicios: https://github.com/alceballosa/programming_fundamentals_py/tree/main/ejercicios\n",
    "\n",
    "- Ejecución interactiva de código Python: http://pythontutor.com/visualize.html#mode=display"
   ]
  },
  {
   "cell_type": "markdown",
   "metadata": {
    "slideshow": {
     "slide_type": "slide"
    }
   },
   "source": [
    "<center> <h1>Herencia y clases derivadas</h1> </center>\n",
    "\n",
    "</br>\n",
    "\n",
    "- La programación orientada a objetos permite definir nuevas clases con base en clases previamente definidas.\n",
    "\n",
    "- La clase original se llama \"clase base\" o \"super clase\"; la clase derivada se denomina \"clase derivada\" o \"subclase\".\n",
    "\n",
    "<center><img width=\"400\" src=\"img/inheritance.png\"></center>\n",
    "\n",
    "https://eng.libretexts.org/Courses/Delta_College/C_-_Data_Structures/01%3A_OOP_Concepts/1.07%3A_OOP_Inheritance"
   ]
  },
  {
   "cell_type": "markdown",
   "metadata": {
    "slideshow": {
     "slide_type": "subslide"
    }
   },
   "source": [
    "<center> <h1>Herencia y clases derivadas</h1> </center>\n",
    "\n",
    "</br>\n",
    "\n",
    "- La principal ventaja es que los objetos pertenecientes a la clase derivada pueden usar los métodos de la clase base. Esta propiedad hace que el desarrollo de la clase derivada sea más eficiente.\n",
    "\n",
    "    - Evita la duplicidad de métodos\n",
    "    - Propicia la reutilización de código\n",
    "    - Facilita el mantenimiento\n",
    "    - Facilita la creación de nuevas aplicaciones\n",
    "    \n",
    "- Esa propiedad de que los objetos de la clase derivada puedan utilizar los métodos definidos en la clase base se denomina herencia."
   ]
  },
  {
   "cell_type": "markdown",
   "metadata": {
    "slideshow": {
     "slide_type": "subslide"
    }
   },
   "source": [
    "<center> <h1>Polimorfismo</h1> </center>\n",
    "\n",
    "</br>\n",
    "\n",
    "- Si una clase derivada tiene definido un método con el mismo nombre que la clase base, al llamar el método se ejecuta el de la clase derivada.\n",
    "\n",
    "- Esto es llamado polimorfismo dinámico.\n"
   ]
  },
  {
   "cell_type": "markdown",
   "metadata": {
    "slideshow": {
     "slide_type": "slide"
    }
   },
   "source": [
    "<center> <h1>Composición</h1> </center>\n",
    "\n",
    "- Adicionalmente diremos que también se definen clases por composición: una clase puede definirse como un conjunto de clases definidas previamente.\n",
    "\n",
    "- Por ejemplo, la clase vehículo se puede definir como un composición de la clase motor, la clase carburador, la clase llanta, etc.\n",
    "\n",
    "- Es importante entonces diferenciar entre lo que es una clase derivada de una clase por composición. **Ojo**, en nuestro curso nos ocuparemos de las clases derivadas.\n",
    "\n",
    "Para profundizar en estos conceptos: \n",
    "\n",
    "https://devexperto.com/herencia-vs-composicion/"
   ]
  },
  {
   "cell_type": "markdown",
   "metadata": {
    "slideshow": {
     "slide_type": "slide"
    }
   },
   "source": [
    "<center> <h1>Enlaces con ejercicios</h1> </center>\n",
    "\n",
    "- https://pynative.com/python-object-oriented-programming-oop-exercise/\n",
    "- https://docs.hektorprofe.net/python/programacion-orientada-a-objetos/ejercicios/\n",
    "- https://docs.hektorprofe.net/python/herencia-en-la-poo/ejercicios/\n",
    "- https://byte-mind.net/curso-python-poo/\n"
   ]
  },
  {
   "cell_type": "code",
   "execution_count": 2,
   "metadata": {
    "slideshow": {
     "slide_type": "slide"
    }
   },
   "outputs": [],
   "source": [
    "class Lugar:\r\n",
    "    SISTEMA_DE_COORDENADAS = \"latitud_longitud\"\r\n",
    "    def __init__(self, nombre, area, coordenadas):\r\n",
    "        self.nombre = nombre\r\n",
    "        self.area = area\r\n",
    "        self.coordenadas = coordenadas\r\n",
    "        \r\n",
    "    def get_nombre(self):\r\n",
    "        return self.nombre\r\n",
    "    \r\n",
    "    def get_area(self):\r\n",
    "        return self.area\r\n",
    "    \r\n",
    "    def set_area(self, area):\r\n",
    "        \"\"\"\r\n",
    "        Asigna un valor nuevo al área del lugar.\r\n",
    "        \"\"\"\r\n",
    "        self.area = area\r\n",
    "    \r\n",
    "    def aplicar_cambio_de_area(self, cambio):\r\n",
    "        \"\"\"\r\n",
    "        Aplica un cambio al area del lugar con la operación\r\n",
    "        de suma.\r\n",
    "        \"\"\"\r\n",
    "        self.area = self.area + cambio\r\n",
    "    \r\n",
    "  \r\n",
    "\r\n",
    "class Ciudad(Lugar):\r\n",
    "    \r\n",
    "    AREA_MINIMA = 10\r\n",
    "    \r\n",
    "    def __init__(self, nombre, area, coordenadas, poblacion, alcalde):\r\n",
    "    \r\n",
    "            \r\n",
    "        Lugar.__init__(self, nombre, area, coordenadas)\r\n",
    "        self.poblacion = poblacion\r\n",
    "        self.alcalde = alcalde\r\n",
    "        \r\n",
    "    def get_poblacion(self):\r\n",
    "        return self.poblacion\r\n",
    "          \r\n",
    "    def get_alcalde(self):\r\n",
    "        return self.alcalde\r\n",
    "    \r\n",
    "    def set_poblacion(self, poblacion):\r\n",
    "        self.poblacion = poblacion\r\n",
    "        \r\n",
    "    def __str__(self):\r\n",
    "        return f\"{self.nombre}: {self.poblacion} hab.\"\r\n",
    "    \r\n",
    "    def __add__(self, other):\r\n",
    "        nuevo_nombre = self.nombre + \"-\" + other.get_nombre()\r\n",
    "        nueva_poblacion = self.poblacion + other.get_poblacion()\r\n",
    "        nueva_area = self.area + other.get_area()\r\n",
    "        nuevas_coordenadas = self.coordenadas\r\n",
    "        nuevo_alcalde = self.alcalde\r\n",
    "        \r\n",
    "        nueva_ciudad = Ciudad(nuevo_nombre, nueva_area, nuevas_coordenadas, nueva_poblacion, nuevo_alcalde)\r\n",
    "        return nueva_ciudad\r\n",
    "        \r\n",
    "#https://www.educative.io/edpresso/how-to-overload-an-operator-in-python      "
   ]
  },
  {
   "cell_type": "code",
   "execution_count": 3,
   "metadata": {},
   "outputs": [],
   "source": [
    "lugar1 = Lugar(\"Cienaga Grande\", 100, [11.5,12.5])"
   ]
  },
  {
   "cell_type": "code",
   "execution_count": 8,
   "metadata": {},
   "outputs": [
    {
     "name": "stdout",
     "output_type": "stream",
     "text": [
      "Cienaga Grande\n",
      "<__main__.Lugar object at 0x0000026517B004C8>\n"
     ]
    }
   ],
   "source": [
    "print(lugar1.get_nombre())\r\n",
    "print(lugar1)"
   ]
  },
  {
   "cell_type": "code",
   "execution_count": 5,
   "metadata": {
    "slideshow": {
     "slide_type": "subslide"
    }
   },
   "outputs": [],
   "source": [
    "ciudad1 = Ciudad(\"Montería\", 5, coordenadas = [10, 10], poblacion = 1000000, alcalde = \"Pepito Pérez\")"
   ]
  },
  {
   "cell_type": "code",
   "execution_count": 6,
   "metadata": {
    "slideshow": {
     "slide_type": "subslide"
    }
   },
   "outputs": [
    {
     "name": "stdout",
     "output_type": "stream",
     "text": [
      "Montería: 1000000 hab.\n"
     ]
    }
   ],
   "source": [
    "print(ciudad1)"
   ]
  },
  {
   "cell_type": "code",
   "execution_count": 9,
   "metadata": {
    "slideshow": {
     "slide_type": "subslide"
    }
   },
   "outputs": [],
   "source": [
    "ciudad2 = Ciudad(\"Santa Marta\", 25, [12,12], 700000, \"Juan Carlos\")"
   ]
  },
  {
   "cell_type": "code",
   "execution_count": 10,
   "metadata": {
    "slideshow": {
     "slide_type": "subslide"
    }
   },
   "outputs": [],
   "source": [
    "suma_ciudades = ciudad1 + ciudad2"
   ]
  },
  {
   "cell_type": "code",
   "execution_count": 12,
   "metadata": {
    "slideshow": {
     "slide_type": "subslide"
    }
   },
   "outputs": [
    {
     "name": "stdout",
     "output_type": "stream",
     "text": [
      "Montería-Santa Marta: 1700000 hab.\n",
      "Pepito Pérez\n"
     ]
    }
   ],
   "source": [
    "print(suma_ciudades)\n",
    "print(suma_ciudades.get_alcalde())"
   ]
  },
  {
   "cell_type": "code",
   "execution_count": 13,
   "metadata": {},
   "outputs": [
    {
     "data": {
      "text/plain": [
       "25"
      ]
     },
     "execution_count": 13,
     "metadata": {},
     "output_type": "execute_result"
    }
   ],
   "source": [
    "ciudad2.get_area()"
   ]
  },
  {
   "cell_type": "code",
   "execution_count": 14,
   "metadata": {},
   "outputs": [],
   "source": [
    "def quitar_tildes(cadena):\n",
    "    cadena = cadena.replace(\"í\",\"i\")\n",
    "    cadena = cadena.replace(\"á\",\"á\")\n",
    "    cadena = cadena.replace(\"ó\",\"o\")\n",
    "    cadena = cadena.replace(\"ú\",\"u\")\n",
    "    cadena = cadena.replace(\"é\",\"e\")\n",
    "    return cadena\n",
    "    \n",
    "def estandarizar_cadena(cadena):\n",
    "    cadena_minuscula = cadena.lower()\n",
    "    cadena_sin_tildes =  quitar_tildes(cadena_minuscula)\n",
    "    return cadena_sin_tildes\n",
    "\n",
    "class Pais(Lugar):\n",
    "    def __init__(self, nombre, area, coordenadas, ciudades, presidente):\n",
    "        \n",
    "        Lugar.__init__(self, nombre, area, coordenadas)\n",
    "        self.Lugar = Lugar\n",
    "        self.ciudades = ciudades\n",
    "        self.presidente = presidente\n",
    "        \n",
    "    def __str__(self):\n",
    "        cadena_representacion = self.nombre + \"\\n\"\n",
    "        for ciudad in self.ciudades:\n",
    "            cadena_representacion += str(ciudad) + \" --- \"\n",
    "        return cadena_representacion\n",
    "    \n",
    "    \n",
    "    def buscar_ciudad(self, nombre):\n",
    "        for ciudad in self.ciudades:\n",
    "            if estandarizar_cadena(ciudad.get_nombre()) == estandarizar_cadena(nombre):\n",
    "                return ciudad\n",
    "            \n",
    "    def get_poblacion(self):\n",
    "        poblacion = 0\n",
    "        for ciudad in self.ciudades:\n",
    "            poblacion += ciudad.get_poblacion()\n",
    "        return poblacion"
   ]
  },
  {
   "cell_type": "code",
   "execution_count": 15,
   "metadata": {},
   "outputs": [],
   "source": [
    "pais1 = Pais(\"Colombia\", 5000, [8,8], ciudades = [ciudad1, ciudad2], presidente = \"Ivan Duque\")"
   ]
  },
  {
   "cell_type": "code",
   "execution_count": 18,
   "metadata": {},
   "outputs": [
    {
     "name": "stdout",
     "output_type": "stream",
     "text": [
      "Montería: 1000000 hab.\n"
     ]
    }
   ],
   "source": [
    "ciudad_buscada = pais1.buscar_ciudad(\"MoNTeRÍA\")\r\n",
    "print(ciudad_buscada)"
   ]
  },
  {
   "cell_type": "code",
   "execution_count": 124,
   "metadata": {},
   "outputs": [
    {
     "name": "stdout",
     "output_type": "stream",
     "text": [
      "1700000\n"
     ]
    }
   ],
   "source": [
    "print(pais1.get_poblacion())"
   ]
  },
  {
   "cell_type": "code",
   "execution_count": null,
   "metadata": {},
   "outputs": [],
   "source": []
  }
 ],
 "metadata": {
  "celltoolbar": "Slideshow",
  "kernelspec": {
   "display_name": "Python 3",
   "language": "python",
   "name": "python3"
  },
  "language_info": {
   "codemirror_mode": {
    "name": "ipython",
    "version": 3
   },
   "file_extension": ".py",
   "mimetype": "text/x-python",
   "name": "python",
   "nbconvert_exporter": "python",
   "pygments_lexer": "ipython3",
   "version": "3.7.9"
  }
 },
 "nbformat": 4,
 "nbformat_minor": 4
}