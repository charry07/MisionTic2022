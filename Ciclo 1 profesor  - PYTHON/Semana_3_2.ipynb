{
 "cells": [
  {
   "cell_type": "markdown",
   "metadata": {
    "slideshow": {
     "slide_type": "slide"
    }
   },
   "source": [
    "<center>\n",
    "<h1> Introducción a la programación con Python </h1>\n",
    "<h2> Alberto Mario Ceballos Arroyo </h2>\n",
    "<h2>Ingeniero de Sistemas </h2> \n",
    "</center>"
   ]
  },
  {
   "cell_type": "markdown",
   "metadata": {
    "slideshow": {
     "slide_type": "slide"
    }
   },
   "source": [
    "<center> <h1> Algunos aspectos metodológicos </h1> </center>\n",
    "\n",
    "- Para participar, preferiblemente escribir por el chat o levantar la mano (somos 150).\n",
    "\n",
    "- Recordemos que el temario está disponible si queremos adelantarnos un poco.\n",
    "\n",
    "- La evaluación es automática y se basa en los retos, el resto de actividades de la plataforma son opcionales pero muy recomendadas."
   ]
  },
  {
   "cell_type": "markdown",
   "metadata": {
    "slideshow": {
     "slide_type": "subslide"
    }
   },
   "source": [
    "<center> <img src=\"img/temario.png\"/> </center>"
   ]
  },
  {
   "cell_type": "markdown",
   "metadata": {
    "slideshow": {
     "slide_type": "subslide"
    }
   },
   "source": [
    "<center> <h1> Agenda de la semana 3 </h1> </center>\n",
    "\n",
    "- Día 1:\n",
    "    - Subprogramas.\n",
    "    - Motivación.\n",
    "    - Parámetros y variables locales.\n",
    "    - Creación de archivos con subprogramas.\n",
    "    \n",
    "- Día 2:\n",
    "    - Vectores.\n",
    "    \n",
    "- Día 3:\n",
    "    - Programación orientada a objetos."
   ]
  },
  {
   "cell_type": "markdown",
   "metadata": {
    "slideshow": {
     "slide_type": "subslide"
    }
   },
   "source": [
    "<center> <h1> Enlaces de interés </h1> </center>\n",
    "\n",
    "- Enlace de la plataforma: https://lms.misiontic2022udea.com/login\n",
    "\n",
    "- Wiki de Python con muchos recursos en español: https://wiki.python.org/moin/SpanishLanguage\n",
    "\n",
    "- PDF con **muchos** ejercicios: https://www.editorialeidec.com/wp-content/uploads/2020/10/Algoritmos-resueltos-con-Python.pdf\n",
    "\n",
    "- Correo del docente: alceballosa@unal.edu.co \n",
    "\n",
    "- Correo de permanencia: permamenciamisiontic@udea.edu.co\n",
    "\n",
    "- Carpeta del repositorio con muchos ejercicios: https://github.com/alceballosa/programming_fundamentals_py/tree/main/ejercicios\n"
   ]
  },
  {
   "cell_type": "markdown",
   "metadata": {
    "slideshow": {
     "slide_type": "slide"
    }
   },
   "source": [
    "<center> <h1>Vectores y programación basada en archivos </h1> </center>\n",
    "\n",
    "</br>\n",
    "\n",
    "- En la clase anterior vimos un poco de programación basada en archivos, lo cual nos alejó un poco de nuestra programación usual en Jupyter, pero es importante enfatizar que la programación se realiza en su mayoría en archivos.\n",
    "\n",
    "- Por lo anterior, en esta clase (enfocada en vectores) alternaremos entre las diapositivas que pueden encontrar en Moodle (https://drive.google.com/drive/u/0/folders/1JEk5OtEuYbCCzoSh_D9tnWw5__w9eJQ2) y algunos archivos de código preparados con anterioridad. Se enfatizará el uso de funciones.\n"
   ]
  },
  {
   "cell_type": "markdown",
   "metadata": {
    "slideshow": {
     "slide_type": "slide"
    }
   },
   "source": [
    "<center> <h1>Ejercicio 1</h1> </center>\n",
    "\n",
    "Elaborar en otro archivo un algoritmo similar al de ```ejemplo_vector.py``` pero que, además de crear un vector con los habitantes de cada municipio, pida también que el usuario ingrese la cantidad de municipios a censar y el nombre de cada municipio.\n",
    "\n",
    "La idea es que al final, los mensajes sean algo como:\n",
    "\n",
    "---> El total de personas en {Medellín} es {2000000}.\n",
    "\n",
    "---> El total de personas en {Bogotá} es {9000000}.\n",
    "\n",
    "Nota: Use la función crear_vector definida en vector.py.\n",
    "Nota: los corchetes indican que el valor o cadena corresponde a una variable, no deben imprimirse como tal."
   ]
  },
  {
   "cell_type": "markdown",
   "metadata": {
    "slideshow": {
     "slide_type": "slide"
    }
   },
   "source": [
    "<center> <h1>Ejercicio 2</h1> </center>\n",
    "\n",
    "\n",
    "Elaborar en un archivo independiente pero dentro de la carpeta ```Semana_3_2/3_operaciones_en_vectores``` un algoritmo que, dado un vector que ha sido llenado previamente\n",
    "elimine todas las apariciones de un valor d.\n",
    "\n",
    "Ejemplo de vector antes de la operación:\n",
    "\n",
    "v = [5, 0, 1, 2, 2, 3]\n",
    "\n",
    "Ejemplo de vector después de la operación, con d = 2:\n",
    "\n",
    "v = [3, 0, 1, 3, None, None]\n",
    "\n",
    "Ojo: si se imprime el vector solo se mostrarán 0, 1 y 3."
   ]
  },
  {
   "cell_type": "markdown",
   "metadata": {
    "slideshow": {
     "slide_type": "slide"
    }
   },
   "source": [
    "<center> <h1>Visualizando distintos algoritmos de ordenamiento</h1> </center>\n",
    "\n",
    "\n",
    "<img src=\"https://i.imgur.com/fq0A8hx.gif\">"
   ]
  },
  {
   "cell_type": "markdown",
   "metadata": {
    "slideshow": {
     "slide_type": "slide"
    }
   },
   "source": [
    "<center> <h1>Ejercicio 3</h1> </center>\n",
    "\n",
    "\n",
    "1. Revisar este sitio web: https://visualgo.net/en/sorting\n",
    "\n",
    "2. Escoger uno de los algoritmos de ordenamiento presentados ahí o arriba, implementarlo y probarlo con un vector dado."
   ]
  }
 ],
 "metadata": {
  "celltoolbar": "Slideshow",
  "kernelspec": {
   "display_name": "Python 3",
   "language": "python",
   "name": "python3"
  },
  "language_info": {
   "codemirror_mode": {
    "name": "ipython",
    "version": 3
   },
   "file_extension": ".py",
   "mimetype": "text/x-python",
   "name": "python",
   "nbconvert_exporter": "python",
   "pygments_lexer": "ipython3",
   "version": "3.7.9"
  }
 },
 "nbformat": 4,
 "nbformat_minor": 4
}
