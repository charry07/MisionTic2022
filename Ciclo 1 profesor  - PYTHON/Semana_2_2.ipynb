{
 "cells": [
  {
   "cell_type": "markdown",
   "metadata": {
    "slideshow": {
     "slide_type": "slide"
    }
   },
   "source": [
    "<center>\n",
    "<h1> Introducción a la programación con Python </h1>\n",
    "<h2> Alberto Mario Ceballos Arroyo </h2>\n",
    "<h2>Ingeniero de Sistemas </h2> \n",
    "</center>"
   ]
  },
  {
   "cell_type": "markdown",
   "metadata": {
    "slideshow": {
     "slide_type": "slide"
    }
   },
   "source": [
    "<center> <h1> Algunos aspectos metodológicos </h1> </center>\n",
    "\n",
    "- Para participar, preferiblemente escribir por el chat o levantar la mano (somos 150).\n",
    "\n",
    "- Recordemos que el temario está disponible si queremos adelantarnos un poco.\n",
    "\n",
    "- La evaluación es automática y se basa en los retos, el resto de actividades de la plataforma son opcionales pero muy recomendadas."
   ]
  },
  {
   "cell_type": "markdown",
   "metadata": {
    "slideshow": {
     "slide_type": "subslide"
    }
   },
   "source": [
    "<center> <img src=\"img/temario.png\"/> </center>"
   ]
  },
  {
   "cell_type": "markdown",
   "metadata": {
    "slideshow": {
     "slide_type": "subslide"
    }
   },
   "source": [
    "<center> <h1> Agenda de la semana 2 </h1> </center>\n",
    "\n",
    "- Día 1:\n",
    "    - Expresiones lógicas y relacionales.\n",
    "    - Indentación.\n",
    "    - Introducción a los condicionales.\n",
    "    - Instrucciones if-else.\n",
    "    \n",
    "- Día 2:\n",
    "    - Instrucciones if-else anidadas.\n",
    "    - Instrucción elif y casos.\n",
    "    - Ejercicios\n",
    "    \n",
    "- Día 3:\n",
    "    - Introducción a los ciclos.\n",
    "    - Ciclo while.\n",
    "    - Ciclo for.\n",
    "    - Introducción a los requisitos funcionales."
   ]
  },
  {
   "cell_type": "markdown",
   "metadata": {
    "slideshow": {
     "slide_type": "subslide"
    }
   },
   "source": [
    "<center> <h1> Enlaces de interés </h1> </center>\n",
    "\n",
    "- Enlace de la plataforma: https://lms.misiontic2022udea.com/login\n",
    "\n",
    "- Wiki de Python con muchos recursos en español: https://wiki.python.org/moin/SpanishLanguage\n",
    "\n",
    "- PDF con **muchos** ejercicios: https://www.editorialeidec.com/wp-content/uploads/2020/10/Algoritmos-resueltos-con-Python.pdf\n",
    "\n",
    "- Correo del docente: alceballosa@unal.edu.co \n",
    "\n",
    "- Correo de permanencia: permamenciamisiontic@udea.edu.co\n"
   ]
  },
  {
   "cell_type": "markdown",
   "metadata": {
    "slideshow": {
     "slide_type": "slide"
    }
   },
   "source": [
    "<center> <h1> Estructuras de ciclo</h1> </center>\n",
    "\n",
    "</br>\n",
    "\n",
    "- Estas estructuras, también conocidas como estructuras de iteración o de bucle, nos permiten repetir una o más instrucciones mientras que el resultado de evaluar una expresión lógica sea verdadero.\n",
    "\n",
    "- Hay dos tipos de estructura **ciclo**, la basada en la instrucción **while** y la basada en la instrucción **for**.\n",
    "\n",
    "- En ambos casos, el aspecto más importante es tener claro el propósito del ciclo que queremos elaborar, ya que podemos incurrir en errores como ciclos infinitos que impedirán el correcto funcionamiento de nuestros programas."
   ]
  },
  {
   "cell_type": "markdown",
   "metadata": {
    "slideshow": {
     "slide_type": "slide"
    }
   },
   "source": [
    "<center> <h1> La instrucción while </h1> </center>\n",
    "\n",
    "- Cuando se entra a un **while** (mientras) se evalúa una condición (expresión relacional o lógica). En caso de que sea verdadera, se ejecuta el bloque de código que contiene.\n",
    "\n",
    "- Cada vez que se llega al final del bloque, se vuelve a evaluar la condición. Si la condición sigue siendo cierta, se vuelve a ejecutar el bloque. Cada ejecución del bloque es considerada una *iteración*.\n",
    "\n",
    "- Cuando la condición no se cumple, el ciclo **while** termina y se ejecutan las instrucciones que siguen después del bloque de código."
   ]
  },
  {
   "cell_type": "markdown",
   "metadata": {
    "slideshow": {
     "slide_type": "subslide"
    }
   },
   "source": [
    "<center> <h1> La instrucción while </h1> </center>\n",
    "\n",
    "<center> <img width=\"750\" src=\"img/sem2_while.png\"></center>\n",
    "\n"
   ]
  },
  {
   "cell_type": "markdown",
   "metadata": {
    "slideshow": {
     "slide_type": "subslide"
    }
   },
   "source": [
    "<center> <h1> Consideraciones sobre el while </h1> </center>\n",
    "\n",
    "- La variable controladora del **while** debe definirse antes de entrar al ciclo.\n",
    "\n",
    "- Un while con una sola instrucción se puede escribir en una sola línea.\n",
    "\n",
    "- Al usar **while** es común el uso del operador +=, que abrevia la acción de sumar sobre el valor de una variable:\n",
    "\n",
    "```python \n",
    "x = x + 20 equivale a x=20\n",
    "```"
   ]
  },
  {
   "cell_type": "code",
   "execution_count": null,
   "metadata": {},
   "outputs": [],
   "source": [
    "i = 0\n",
    "while True: print(i) #ciclo infinito"
   ]
  },
  {
   "cell_type": "markdown",
   "metadata": {
    "slideshow": {
     "slide_type": "slide"
    }
   },
   "source": [
    "<center> <h1> Ejemplos de ciclo while </h1> </center>\n",
    "\n",
    "- Elaborar un algoritmo que pida los nombres de los estudiantes de una clase y los salude a todos.\n",
    "- Determinar si un entero es primo o no."
   ]
  },
  {
   "cell_type": "code",
   "execution_count": 6,
   "metadata": {
    "slideshow": {
     "slide_type": "fragment"
    }
   },
   "outputs": [
    {
     "name": "stdout",
     "output_type": "stream",
     "text": [
      "Escriba el nombre del estudiante (mande un texto vacío para salir): \n",
      "Todos los estudiantes fueron saludados.\n"
     ]
    }
   ],
   "source": [
    "nombre = input(\"Escriba el nombre del estudiante (mande un texto vacío para salir): \")\n",
    "while nombre != \"\":\n",
    "    print(\"Buenos días {}\".format(nombre))\n",
    "    nombre = input(\"Escriba el nombre del estudiante (mande un texto vacío para salir): \")\n",
    "print(\"Todos los estudiantes fueron saludados.\")"
   ]
  },
  {
   "cell_type": "code",
   "execution_count": 18,
   "metadata": {
    "slideshow": {
     "slide_type": "subslide"
    }
   },
   "outputs": [
    {
     "name": "stdout",
     "output_type": "stream",
     "text": [
      "Ingrese un número entero: 16\n",
      "Evaluando con 2\n",
      "Evaluando con 3\n",
      "Evaluando con 4\n",
      "Evaluando con 5\n",
      "Evaluando con 6\n",
      "Evaluando con 7\n",
      "Evaluando con 8\n",
      "El número 16 no es primo.\n"
     ]
    }
   ],
   "source": [
    "# Tip: hallar el residuo de dividir x por todos los enteros desde 2 hasta la raiz de x o hasta que algún residuo de igual a 0. \n",
    "# Estos cálculos implican generar un divisor, que representaremos con la variable i.\n",
    "\n",
    "n = int(input(\"Ingrese un número entero: \"))\n",
    "i = 2\n",
    "es_primo = True\n",
    "\n",
    "while i < int(n/2) + 1:\n",
    "    print(f\"Evaluando con {i}\")\n",
    "    if n%i == 0:\n",
    "        es_primo = False\n",
    "    i = i + 1\n",
    "    \n",
    "if es_primo:\n",
    "    print(\"El número {} es primo.\".format(n))\n",
    "else:\n",
    "    print(\"El número {} no es primo.\".format(n))"
   ]
  },
  {
   "cell_type": "markdown",
   "metadata": {
    "slideshow": {
     "slide_type": "subslide"
    }
   },
   "source": [
    "<center> <h1> Ejercicio de ciclo while </h1> </center>\n",
    "\n",
    "- Elaborar un algoritmo para determinar el aumento y el nuevo salario de todos los empleados de una empresa. Asuma que el aumento será del 10% y solamente se aplica si el salario actual es menor a 1000."
   ]
  },
  {
   "cell_type": "code",
   "execution_count": 26,
   "metadata": {
    "slideshow": {
     "slide_type": "fragment"
    }
   },
   "outputs": [
    {
     "name": "stdout",
     "output_type": "stream",
     "text": [
      "Ingrese el nombre del empleado (ingrese un valor vacío para salir): \n",
      "Actualización de salarios finalizada\n"
     ]
    }
   ],
   "source": [
    "nombre = input(\"Ingrese el nombre del empleado (ingrese un valor vacío para salir): \")\n",
    "while nombre != \"\":\n",
    "    \n",
    "    salario = int(input(f\"Ingrese el salario del empleado {nombre}: \"))\n",
    "    aumento = 0.\n",
    "    if salario < 1000:\n",
    "        aumento = salario * 0.1\n",
    "    \n",
    "    nuevoSalario = salario + aumento\n",
    "    \n",
    "    print(nombre, salario, aumento, nuevoSalario)\n",
    "    nombre = input(\"Ingrese el nombre del empleado (ingrese un valor vacío para salir): \")\n",
    "    \n",
    "print(\"Actualización de salarios finalizada\")"
   ]
  },
  {
   "cell_type": "markdown",
   "metadata": {
    "slideshow": {
     "slide_type": "slide"
    }
   },
   "source": [
    "<center> <h1> Concepto de contador </h1> </center>\n",
    "\n",
    "\n",
    "Como lo indica su nombre, cuenta el número de ocurrencias de un evento dentro de un ciclo. Por ejemplo: la cantidad de números pares que encontramos en un ciclo.\n",
    "\n",
    "**Ejemplo:** construir un programa que lea un entero n > 0 y que calcule y cuente la cantidad de números divisibles por otro número k que hay entre 0 y n (inclusive)."
   ]
  },
  {
   "cell_type": "code",
   "execution_count": 29,
   "metadata": {
    "slideshow": {
     "slide_type": "subslide"
    }
   },
   "outputs": [
    {
     "name": "stdout",
     "output_type": "stream",
     "text": [
      "Escriba el número n:5\n",
      "Escriba el número k:2\n",
      "1 NO cumple la condición\n",
      "2 cumple la condición\n",
      "3 NO cumple la condición\n",
      "4 cumple la condición\n",
      "5 NO cumple la condición\n",
      "Entre 1 y 5 hay 2 números divisibles entre 2.\n"
     ]
    }
   ],
   "source": [
    "n = int(input(\"Escriba el número n:\"))\n",
    "k = int(input(\"Escriba el número k:\"))\n",
    "\n",
    "i = 1\n",
    "contador = 0\n",
    "\n",
    "while i <= n:\n",
    "    if i%k==0:\n",
    "        print(f\"{i} cumple la condición\")\n",
    "        contador+=1\n",
    "    else:\n",
    "        print(f\"{i} NO cumple la condición\")\n",
    "    i+=1\n",
    "    \n",
    "print(f\"Entre 1 y {n} hay {contador} números divisibles entre {k}.\")"
   ]
  },
  {
   "cell_type": "markdown",
   "metadata": {
    "slideshow": {
     "slide_type": "slide"
    }
   },
   "source": [
    "<center> <h1> Concepto de acumulador </h1> </center>\n",
    "\n",
    "\n",
    "Es una variable en la cual se lleva el total de un concepto específico en un ciclo, como la sumatoria o el factorial de una serie de números.\n",
    "\n",
    "**Ejemplo 1**: elaborar un programa para calcular y mostrar el factorial de un entero entrado por teclado.\n",
    "\n",
    "**Ejemplo 2**: diseñar un algoritmo que calcule la sumatoria de los números que hay entre 0 y un número n ingresado por teclado."
   ]
  },
  {
   "cell_type": "code",
   "execution_count": 32,
   "metadata": {
    "slideshow": {
     "slide_type": "fragment"
    }
   },
   "outputs": [
    {
     "name": "stdout",
     "output_type": "stream",
     "text": [
      "Ingrese el número cuyo factorial desea conocer:5\n",
      "El factorial de 5 es 120.\n"
     ]
    }
   ],
   "source": [
    "n = int(input(\"Ingrese el número cuyo factorial desea conocer:\"))\n",
    "i = 1\n",
    "fact = 1\n",
    "while i <= n:\n",
    "    fact*=i\n",
    "    i= i+1\n",
    "\n",
    "print(f\"El factorial de {n} es {fact}.\")"
   ]
  },
  {
   "cell_type": "code",
   "execution_count": 35,
   "metadata": {
    "slideshow": {
     "slide_type": "fragment"
    }
   },
   "outputs": [
    {
     "name": "stdout",
     "output_type": "stream",
     "text": [
      "Ingrese el número cuya sumatorio desea conocer:5\n",
      "La sumatoria desde 1 hasta 5 es 15.\n"
     ]
    }
   ],
   "source": [
    "n = int(input(\"Ingrese el número cuya sumatoria desea conocer:\"))\n",
    "i = 1\n",
    "sumatoria = 0\n",
    "while i <= n:\n",
    "    sumatoria+=i\n",
    "    i= i+1\n",
    "\n",
    "print(f\"La sumatoria desde 1 hasta {n} es {sumatoria}.\")"
   ]
  },
  {
   "cell_type": "markdown",
   "metadata": {
    "slideshow": {
     "slide_type": "subslide"
    }
   },
   "source": [
    "<center> <h1> Concepto de promedio </h1> </center>\n",
    "\n",
    "Es el valor medio de un evento cuantificable. Se obtiene dividiendo un acumulador entre su respectivo contador. \n",
    "\n",
    "- Nota: los promedios se calculan después de que se ha terminado de ejecutar el ciclo **while**. Es un error común en los principiantes calcular promedios dentro del ciclo.\n",
    "    \n",
    "    \n",
    "**Ejemplo**: diseñar un algoritmo que calcule el promedio de los pesos de los estudiantes de una escuela que pesen entre 60 y 80 kilos."
   ]
  },
  {
   "cell_type": "code",
   "execution_count": 36,
   "metadata": {
    "slideshow": {
     "slide_type": "subslide"
    }
   },
   "outputs": [
    {
     "name": "stdout",
     "output_type": "stream",
     "text": [
      "Ingrese el nombre del estudiante (mande un valor vacío para salir): Julio\n",
      "Ingrese el peso de Julio: 55\n",
      "Ingrese el nombre del estudiante (mande un valor vacío para salir): Mario\n",
      "Ingrese el peso de Mario: 65\n",
      "Ingrese el nombre del estudiante (mande un valor vacío para salir): Ana\n",
      "Ingrese el peso de Ana: 60\n",
      "Ingrese el nombre del estudiante (mande un valor vacío para salir): \n",
      "El promedio de los pesos de los estudiantes en el rango 60-80 es de 62.5\n"
     ]
    }
   ],
   "source": [
    "nombre = input(\"Ingrese el nombre del estudiante (mande un valor vacío para salir): \")\n",
    "contador = 0\n",
    "acumulador_pesos = 0\n",
    "while nombre != \"\":\n",
    "    peso = float(input(f\"Ingrese el peso de {nombre}: \"))\n",
    "    if 60 <= peso <= 80:\n",
    "        contador += 1\n",
    "        acumulador_pesos += peso\n",
    "    nombre = input(\"Ingrese el nombre del estudiante (mande un valor vacío para salir): \")\n",
    "promedio_pesos = acumulador_pesos/contador\n",
    "print(\"El promedio de los pesos de los estudiantes en el rango 60-80 es de\", promedio_pesos)\n",
    "    "
   ]
  },
  {
   "cell_type": "markdown",
   "metadata": {
    "slideshow": {
     "slide_type": "slide"
    }
   },
   "source": [
    "<center> <h1> Ejercicio integrador: contador, acumulador y promedio </h1> </center>\n",
    "\n",
    "Elaborar un programa para determinar el nuevo salario de una serie de empleados, contando a cuántas se les hizo el cálculo, cuántas tuvieron un aumento mayor que cero, el total de salarios anteriores, el total de aumentos, el total de nuevos salarios, el promedio salarial antes y después del aumento y el promedio de aumentos."
   ]
  },
  {
   "cell_type": "code",
   "execution_count": null,
   "metadata": {
    "slideshow": {
     "slide_type": "subslide"
    }
   },
   "outputs": [],
   "source": []
  },
  {
   "cell_type": "markdown",
   "metadata": {
    "slideshow": {
     "slide_type": "slide"
    }
   },
   "source": [
    "<center> <h1> Ciclo while anidado </h1> </center>\n",
    "\n",
    "- Al igual que con los condicionales, habrá casos en los que necesitaremos anidar varios **while** para lograr nuestro objetivo.\n",
    "\n",
    "- Recordemos que la indentación es la que determina cuáles son las instrucciones que pertenecen a cada ciclo.\n",
    "\n",
    "- Para que se pueda continuar ejecutando un ciclo externo se deben haber terminado de ejecutar completamente sus ciclos internos. \n",
    "\n",
    "- Cada vez que continúa la ejecución de un ciclo externo, volverá a ejecutar totalmente sus ciclos internos."
   ]
  },
  {
   "cell_type": "markdown",
   "metadata": {
    "slideshow": {
     "slide_type": "subslide"
    }
   },
   "source": [
    "\n",
    "<center> <img width=\"450\" src=\"img/sem2_while_anidado.png\"></center>"
   ]
  },
  {
   "cell_type": "markdown",
   "metadata": {
    "slideshow": {
     "slide_type": "slide"
    }
   },
   "source": [
    "<center> <h1> Ejemplos del ciclo while anidado</h1> </center>\n",
    "\n",
    "- Mostrar todos los primos desde 3 hasta un entero n."
   ]
  },
  {
   "cell_type": "code",
   "execution_count": 46,
   "metadata": {
    "slideshow": {
     "slide_type": "fragment"
    }
   },
   "outputs": [
    {
     "name": "stdout",
     "output_type": "stream",
     "text": [
      "Ingrese el valor n:5\n",
      "Evaluando si i = 3 es primo.\n",
      "El número 3 es primo.\n",
      "Evaluando si i = 4 es primo.\n",
      "\tVerificando si i = 4 es divisible por 2\n",
      "El número 4 NO es primo.\n",
      "Evaluando si i = 5 es primo.\n",
      "\tVerificando si i = 5 es divisible por 2\n",
      "El número 5 es primo.\n"
     ]
    }
   ],
   "source": [
    "n = int(input(\"Ingrese el valor n:\"))\n",
    "i = 3\n",
    "while i <= n:\n",
    "    print(f\"Evaluando si i = {i} es primo.\")\n",
    "    j = 2\n",
    "    es_primo = True\n",
    "    while j < int(i/2) + 1:\n",
    "        print(f\"\\tVerificando si i = {i} es divisible por {j}\")\n",
    "        if i%j == 0:\n",
    "            es_primo = False\n",
    "        j = j + 1\n",
    "    if es_primo == True:\n",
    "        print(f\"El número {i} es primo.\")\n",
    "    else:\n",
    "        print(f\"El número {i} NO es primo.\")\n",
    "    i = i + 1"
   ]
  },
  {
   "cell_type": "markdown",
   "metadata": {
    "slideshow": {
     "slide_type": "slide"
    }
   },
   "source": [
    "<center> <h1> Ejercicios con el ciclo while anidado</h1> </center>\n",
    "\n",
    "- Elaborar un algoritmo que lea un entero n y que calcule e imprima todas las tablas de multiplicar desde 1 hasta n, cada tabla desde 1 hasta 10."
   ]
  },
  {
   "cell_type": "code",
   "execution_count": 49,
   "metadata": {
    "slideshow": {
     "slide_type": "subslide"
    }
   },
   "outputs": [
    {
     "name": "stdout",
     "output_type": "stream",
     "text": [
      "Ingrese el número n -entero-:1\n",
      "-------------------------\n",
      "TABLA DEL 1\n",
      "\n",
      "1*1=1\n",
      "1*2=2\n",
      "1*3=3\n",
      "1*4=4\n",
      "1*5=5\n",
      "1*6=6\n",
      "1*7=7\n",
      "1*8=8\n",
      "1*9=9\n",
      "1*10=10\n",
      "-------------------------\n",
      "\n"
     ]
    }
   ],
   "source": [
    "n = int(input(\"Ingrese el número n -entero-:\"))\n",
    "num_tabla = 1\n",
    "\n",
    "while num_tabla <= n:\n",
    "    \n",
    "    elemento = 1\n",
    "    print(\"-------------------------\")\n",
    "    print(f\"TABLA DEL {num_tabla}\\n\")\n",
    "    while elemento <= 10:\n",
    "        res = elemento*num_tabla\n",
    "        print(f\"{num_tabla}*{elemento}={res}\")\n",
    "        elemento += 1\n",
    "        \n",
    "    print(\"-------------------------\\n\")\n",
    "    num_tabla += 1"
   ]
  },
  {
   "cell_type": "markdown",
   "metadata": {
    "slideshow": {
     "slide_type": "slide"
    }
   },
   "source": [
    "<center> <h1> Ejercicio con el ciclo para estructura con menú</h1> </center>\n",
    "\n",
    "- Elabore un algoritmo que permita al usuario ingresar, de manera separada (es decir, con un menú), los datos de estudiantes, profesores y administrativos del colegio. Cada vez que se ingresen los datos, deben mostrarse con un comando **print**.\n",
    "\n",
    "1. Para los estudiantes debe ingresarse nombre y promedio (1 al 5). \n",
    "\n",
    "2. Para los profesores debe ingresarse nombre y cursos que dicta (separados por coma).\n",
    "\n",
    "3. Para los administrativos debe ingresarse el nombre y el salario en pesos.\n",
    "\n",
    "- Nota: considere los casos de error y la opción para salir del menú."
   ]
  },
  {
   "cell_type": "code",
   "execution_count": 87,
   "metadata": {
    "slideshow": {
     "slide_type": "subslide"
    }
   },
   "outputs": [
    {
     "name": "stdout",
     "output_type": "stream",
     "text": [
      "[1] Ingresar datos de estudiante...\n",
      "[2] Ingresar datos de docente...\n",
      "[3] Ingresar datos de administrativo...\n",
      "[0] Salir\n",
      "Por favor escriba su opción: 1\n",
      "Actividades con el estudiante\n",
      "--------------------------\n",
      "[1] Ingresar datos de estudiante...\n",
      "[2] Ingresar datos de docente...\n",
      "[3] Ingresar datos de administrativo...\n",
      "[0] Salir\n",
      "Por favor escriba su opción: 2\n",
      "Actividades con el docente\n",
      "--------------------------\n",
      "[1] Ingresar datos de estudiante...\n",
      "[2] Ingresar datos de docente...\n",
      "[3] Ingresar datos de administrativo...\n",
      "[0] Salir\n",
      "Por favor escriba su opción: 3\n",
      "Actividades con el administrativo\n",
      "--------------------------\n",
      "[1] Ingresar datos de estudiante...\n",
      "[2] Ingresar datos de docente...\n",
      "[3] Ingresar datos de administrativo...\n",
      "[0] Salir\n",
      "Por favor escriba su opción: 0\n"
     ]
    }
   ],
   "source": [
    "while True:\n",
    "    \n",
    "    print(\"[1] Ingresar datos de estudiante...\")\n",
    "    print(\"[2] Ingresar datos de docente...\")\n",
    "    print(\"[3] Ingresar datos de administrativo...\")\n",
    "    print(\"[0] Salir\")\n",
    "    opcion = int(input(\"Por favor escriba su opción: \"))\n",
    "    if opcion == 0:\n",
    "        break\n",
    "    \n",
    "    elif opcion == 1:\n",
    "        print(\"Actividades con el estudiante\")\n",
    "    elif opcion == 2:\n",
    "        print(\"Actividades con el docente\")  \n",
    "    elif opcion == 3:\n",
    "        print(\"Actividades con el administrativo\")\n",
    "    else:\n",
    "        print(\"Opción inválida\")\n",
    "    \n",
    "    print(\"--------------------------\")"
   ]
  },
  {
   "cell_type": "markdown",
   "metadata": {
    "slideshow": {
     "slide_type": "slide"
    }
   },
   "source": [
    "<center> <h1> La instrucción for</h1> </center>\n",
    "\n",
    "- El **for** es una instrucción de iteración parecida al while, pero con casos de aplicación más específicos.\n",
    "\n",
    "- En general, se usa para ejecutar un bloque de código un número definido de veces.\n",
    "\n",
    "- En la instrucción se definen el valor inicial y final de la variable controladora del ciclo, así como la variación o el salto de la misma."
   ]
  },
  {
   "cell_type": "markdown",
   "metadata": {
    "slideshow": {
     "slide_type": "slide"
    }
   },
   "source": [
    "<center> <h1>Definir un for</h1> </center>\n",
    "\n",
    "- Para definir un **for** se escribe la palabra clave **for** seguida del identificador de una variable (digamos *i*), que tomará un valor en cada iteración. Luego se agrega la palabra clave **in**  y la función *range()*, y entre los paréntesis se ponen 3 parámetros numericos.\n",
    "\n",
    "- El primer valor es el valor inicial de *i*, el segundo valor será el valor final (**no inclusivo**) del intervalo que recorrerá *i*, el tercer valor será el salto que dará la variable *i* en cada iteración.\n",
    "\n",
    "- Similar al **while**, el **for** se ejecuta hasta que el valor de *i* llegue al final del rango (nuestra condición de iteración).\n",
    "\n",
    "- El condicional del **for** va seguido de dos puntos (:) y el bloque a ejecutar debe ir indentado.\n",
    "\n",
    "```python\n",
    "for i in range(inicio, fin, salto):\n",
    "    instrucciones_a_ejecutar_en_el_for\n",
    "\n",
    "```\n",
    "\n",
    "Nota: debido a la forma en que se define el **for**, no es posible llegar a ciclos infinitos salvo que manipulemos la variable controladora dentro del ciclo (una muy mala práctica).\n",
    "\n",
    "Nota 2: al igual que con el **while**, podemos escribir en una línea los **for** que tengan una sola instrucción."
   ]
  },
  {
   "cell_type": "markdown",
   "metadata": {
    "slideshow": {
     "slide_type": "subslide"
    }
   },
   "source": [
    "<center> <h1>Formas particulares de la instrucción for</h1> </center>\n",
    "\n",
    "El ciclo **for** (para) puede escribirse omitiendo dos de sus parámetros, el valor inicial (por defecto 0) y el salto (por defecto 1).\n",
    "\n",
    "- Si escribimos ```for i in range(10)```, las instrucciones del ciclo se ejecutarán 10 veces, ya que los valores de la variable *i* irán de 0 hasta 9.\n",
    "\n",
    "- En general, si escribimos ```for i in range(n)```, las instrucciones del ciclo se ejecutarán n veces, y los valores de la variable *i* irán desde 0 hasta n - 1.\n",
    "\n",
    "\n",
    "- Si escribimos ```for i in range(1, 10, 2)```, las instrucciones del ciclo se ejecutarán 5 veces y los valores que tomará *i* serán desde 1 hasta 9.\n",
    "\n",
    "- En general, si escribimos ```for i in range(m, n, salto)```, con m < n, las instrucciones del ciclo se ejecutarán hasta (n - m)/salto veces. Los valores que tomará *i* estarán desde m hasta un valor máximo n - 1 (puede ser menor en función del salto)."
   ]
  },
  {
   "cell_type": "code",
   "execution_count": 70,
   "metadata": {
    "slideshow": {
     "slide_type": "subslide"
    }
   },
   "outputs": [
    {
     "name": "stdout",
     "output_type": "stream",
     "text": [
      "1 3 5 7 9 \n",
      "----------------\n",
      "2\t4\t6\t8\t10\t12\t14\t16\t18\t20\t22\t24\t26\t28\t30\t32\t34\t36\t38\t40\t42\t44\t46\t48\t50\t52\t54\t56\t58\t60\t62\t64\t66\t68\t70\t72\t74\t76\t78\t80\t82\t84\t86\t88\t90\t92\t94\t96\t98\t100\t102\t104\t106\t108\t110\t112\t114\t116\t118\t120\t\n",
      "----------------\n",
      "0\n",
      "5\n",
      "10\n",
      "15\n",
      "\n",
      "----------------\n",
      "0\n",
      "5\n",
      "10\n",
      "15\n"
     ]
    }
   ],
   "source": [
    "# programemos...\n",
    "\n",
    "#for i in range(5): print(i)\n",
    "    \n",
    "    \n",
    "for i in range(1,10,2): \n",
    "    print(i, end = \" \")\n",
    "    \n",
    "\n",
    "print(\"\\n----------------\")\n",
    "#i = 2\n",
    "#while i < 12:\n",
    "for i in range(2,122,2):\n",
    "    print(i, end = \"\\t\")\n",
    "    #i+=2 (12)\n",
    "\n",
    "print(\"\\n----------------\")\n",
    "final = 20\n",
    "salto = 5\n",
    "for i in range(0, final, salto):\n",
    "    print(i, end = \"\\n\")\n",
    "    \n",
    "print(\"\\n----------------\")\n",
    "final = 20\n",
    "salto = 5\n",
    "for i in range(0, final, salto):\n",
    "    print(i)"
   ]
  },
  {
   "cell_type": "markdown",
   "metadata": {
    "slideshow": {
     "slide_type": "slide"
    }
   },
   "source": [
    "<center> <h1> Consideraciones </h1> </center>\n",
    "\n",
    "- Todos los parámetros del **for** deben ser números enteros.\n",
    "- Todos los parámetros del **for** pueden ser literales o variables, o combinaciones de estos.\n",
    "- Si el salto es positivo, el valor final debe ser mayor que el valor inicial.\n",
    "- Si el salto es negativo, el valor inicial debe ser mayor que el valor final.\n",
    "- Si no se cumple ninguno de los casos anteriores, no se ejecuta ninguna instrucción.\n",
    "- El **for** también puede usarse para iterar sobre cadenas o estructuras de datos (lo veremos la próxima semana)."
   ]
  },
  {
   "cell_type": "code",
   "execution_count": 62,
   "metadata": {
    "slideshow": {
     "slide_type": "subslide"
    }
   },
   "outputs": [],
   "source": [
    "for i in range(0, 0):\n",
    "    print(i, end = \" \")"
   ]
  },
  {
   "cell_type": "code",
   "execution_count": 63,
   "metadata": {
    "slideshow": {
     "slide_type": "fragment"
    }
   },
   "outputs": [],
   "source": [
    "for i in range(0, -10, 1):\n",
    "    print(i, end = \" \")"
   ]
  },
  {
   "cell_type": "code",
   "execution_count": 64,
   "metadata": {
    "slideshow": {
     "slide_type": "fragment"
    }
   },
   "outputs": [],
   "source": [
    "for i in range(1, 10, -1):\n",
    "    print(i, end = \" \")"
   ]
  },
  {
   "cell_type": "code",
   "execution_count": 65,
   "metadata": {
    "slideshow": {
     "slide_type": "fragment"
    }
   },
   "outputs": [
    {
     "ename": "TypeError",
     "evalue": "'float' object cannot be interpreted as an integer",
     "output_type": "error",
     "traceback": [
      "\u001b[1;31m---------------------------------------------------------------------------\u001b[0m",
      "\u001b[1;31mTypeError\u001b[0m                                 Traceback (most recent call last)",
      "\u001b[1;32m<ipython-input-65-ef4e151a34f0>\u001b[0m in \u001b[0;36m<module>\u001b[1;34m\u001b[0m\n\u001b[1;32m----> 1\u001b[1;33m \u001b[1;32mfor\u001b[0m \u001b[0mi\u001b[0m \u001b[1;32min\u001b[0m \u001b[0mrange\u001b[0m\u001b[1;33m(\u001b[0m\u001b[1;36m1\u001b[0m\u001b[1;33m,\u001b[0m \u001b[1;36m10.5\u001b[0m\u001b[1;33m,\u001b[0m \u001b[1;36m1\u001b[0m\u001b[1;33m)\u001b[0m\u001b[1;33m:\u001b[0m\u001b[1;33m\u001b[0m\u001b[1;33m\u001b[0m\u001b[0m\n\u001b[0m\u001b[0;32m      2\u001b[0m     \u001b[0mprint\u001b[0m\u001b[1;33m(\u001b[0m\u001b[0mi\u001b[0m\u001b[1;33m,\u001b[0m \u001b[0mend\u001b[0m \u001b[1;33m=\u001b[0m \u001b[1;34m\" \"\u001b[0m\u001b[1;33m)\u001b[0m\u001b[1;33m\u001b[0m\u001b[1;33m\u001b[0m\u001b[0m\n",
      "\u001b[1;31mTypeError\u001b[0m: 'float' object cannot be interpreted as an integer"
     ]
    }
   ],
   "source": [
    "for i in range(1, 10.5, 1):\n",
    "    print(i, end = \" \")"
   ]
  },
  {
   "cell_type": "code",
   "execution_count": 72,
   "metadata": {
    "slideshow": {
     "slide_type": "fragment"
    }
   },
   "outputs": [
    {
     "name": "stdout",
     "output_type": "stream",
     "text": [
      "M I N T I C "
     ]
    }
   ],
   "source": [
    "for letra in \"MINTIC\":\n",
    "    print(letra, end = \" \")"
   ]
  },
  {
   "cell_type": "markdown",
   "metadata": {
    "slideshow": {
     "slide_type": "slide"
    }
   },
   "source": [
    "<center> <h1> Ejemplos de ciclo for </h1> </center>\n",
    "\n",
    "- Calcular la suma de los enteros desde 1 hasta n.\n",
    "- Pedir por teclado el valor inicial, el valor final y el salto de un for. Imprimir todos los valores recorridos por el for y contar cuantos son.\n",
    "- Determinar si un entero es primo o no.\n",
    "- Imprimir de manera descendente los números entre un número m y un número n (m > n), con saltos de 2."
   ]
  },
  {
   "cell_type": "code",
   "execution_count": 75,
   "metadata": {
    "slideshow": {
     "slide_type": "subslide"
    }
   },
   "outputs": [
    {
     "name": "stdout",
     "output_type": "stream",
     "text": [
      "Ingrese un entero: 10\n",
      "Acumulando...\n",
      "1 2 3 4 5 6 7 8 9 10 \n",
      "El acumulado hasta 10 es 55.\n"
     ]
    }
   ],
   "source": [
    "n = int(input(\"Ingrese un entero: \"))\n",
    "acum = 0\n",
    "print(\"Acumulando...\")\n",
    "for i in range(1, n+1, 1):\n",
    "    print(i, end=\" \")\n",
    "    acum = acum + i\n",
    "print(f\"\\nEl acumulado hasta {n} es {acum}.\")"
   ]
  },
  {
   "cell_type": "code",
   "execution_count": 76,
   "metadata": {
    "slideshow": {
     "slide_type": "subslide"
    }
   },
   "outputs": [
    {
     "name": "stdout",
     "output_type": "stream",
     "text": [
      "Ingrese el valor inicial: 10\n",
      "Ingrese el valor final: 15\n",
      "Recorriendo...\n",
      "10 11 12 13 14 15 \n",
      "Se contaron 6 números entre 10 y 15.\n"
     ]
    }
   ],
   "source": [
    "ini = int(input(\"Ingrese el valor inicial: \"))\n",
    "fin = int(input(\"Ingrese el valor final: \"))\n",
    "contador = 0\n",
    "print(\"Recorriendo...\")\n",
    "for i in range(ini, fin+1, 1):\n",
    "    print(i, end=\" \")\n",
    "    contador = contador + 1\n",
    "print(f\"\\nSe contaron {contador} números entre {ini} y {fin}.\")"
   ]
  },
  {
   "cell_type": "code",
   "execution_count": null,
   "metadata": {
    "slideshow": {
     "slide_type": "subslide"
    }
   },
   "outputs": [],
   "source": []
  },
  {
   "cell_type": "code",
   "execution_count": 77,
   "metadata": {
    "slideshow": {
     "slide_type": "subslide"
    }
   },
   "outputs": [
    {
     "name": "stdout",
     "output_type": "stream",
     "text": [
      "Ingrese el valor más grande:20\n",
      "Ingrese el valor más pequeño:10\n",
      "20 18 16 14 12 10 "
     ]
    }
   ],
   "source": [
    "# Imprimir de manera descendente los números entre un número m y un número n (m > n), con saltos de 2.\n",
    "\n",
    "n = int(input(\"Ingrese el valor más grande:\"))\n",
    "m = int(input(\"Ingrese el valor más pequeño:\"))\n",
    "\n",
    "for num in range(n, m-1, -2):\n",
    "    print(num, end = \" \")"
   ]
  },
  {
   "cell_type": "markdown",
   "metadata": {
    "slideshow": {
     "slide_type": "slide"
    }
   },
   "source": [
    "<center> <h1> Ejercicios de ciclo for anidado </h1> </center>\n",
    "\n",
    "<center> <img width=\"500\" src=\"img/sem2_ej_for.png\"> </center>"
   ]
  },
  {
   "cell_type": "code",
   "execution_count": 104,
   "metadata": {
    "slideshow": {
     "slide_type": "subslide"
    }
   },
   "outputs": [
    {
     "name": "stdout",
     "output_type": "stream",
     "text": [
      "1\n",
      "22\n",
      "333\n",
      "4444\n",
      "55555\n",
      "666666\n",
      "1\n",
      "22\n",
      "333\n",
      "4444\n",
      "55555\n",
      "666666\n"
     ]
    }
   ],
   "source": [
    "for i in range(1, 6 + 1, 1):\n",
    "    for j in range(1, i + 1, 1):\n",
    "        print(i, end = \"\")\n",
    "    print(\"\\n\", end = \"\")\n",
    "    #print(\"\")\n",
    "\n",
    "for i in range(1, 6 + 1, 1):\n",
    "    print( str(i)*i, end = \"\")\n",
    "    print(\"\\n\", end = \"\")\n",
    "    #print(\"\")\n",
    "    "
   ]
  },
  {
   "cell_type": "code",
   "execution_count": 105,
   "metadata": {
    "slideshow": {
     "slide_type": "subslide"
    }
   },
   "outputs": [
    {
     "name": "stdout",
     "output_type": "stream",
     "text": [
      "666666\n",
      "55555\n",
      "4444\n",
      "333\n",
      "22\n",
      "1\n"
     ]
    }
   ],
   "source": [
    "for i in range(6, 1 - 1, -1):\n",
    "    for j in range(1, i + 1, 1):\n",
    "        print(i, end = \"\")\n",
    "    print(\"\\n\", end = \"\")"
   ]
  },
  {
   "cell_type": "code",
   "execution_count": null,
   "metadata": {
    "slideshow": {
     "slide_type": "subslide"
    }
   },
   "outputs": [],
   "source": []
  },
  {
   "cell_type": "code",
   "execution_count": null,
   "metadata": {
    "slideshow": {
     "slide_type": "subslide"
    }
   },
   "outputs": [],
   "source": []
  },
  {
   "cell_type": "code",
   "execution_count": null,
   "metadata": {
    "slideshow": {
     "slide_type": "subslide"
    }
   },
   "outputs": [],
   "source": []
  },
  {
   "cell_type": "code",
   "execution_count": null,
   "metadata": {
    "slideshow": {
     "slide_type": "subslide"
    }
   },
   "outputs": [],
   "source": []
  },
  {
   "cell_type": "markdown",
   "metadata": {
    "slideshow": {
     "slide_type": "slide"
    }
   },
   "source": [
    "<center> <h1> ¿Cuándo usar while y cuándo usar for? </h1> </center>\n",
    "\n",
    "En primer lugar, elaboremos el algoritmo para hacer las n tablas de multiplicar tal como lo hicimos con el while."
   ]
  },
  {
   "cell_type": "code",
   "execution_count": 80,
   "metadata": {
    "slideshow": {
     "slide_type": "fragment"
    }
   },
   "outputs": [
    {
     "name": "stdout",
     "output_type": "stream",
     "text": [
      "Ingrese el número n -entero-:1\n",
      "-------------------------\n",
      "TABLA DEL 1\n",
      "\n",
      "1*1=1\n",
      "1*2=2\n",
      "1*3=3\n",
      "1*4=4\n",
      "1*5=5\n",
      "1*6=6\n",
      "1*7=7\n",
      "1*8=8\n",
      "1*9=9\n",
      "1*10=10\n",
      "-------------------------\n",
      "\n"
     ]
    }
   ],
   "source": [
    "n = int(input(\"Ingrese el número n -entero-:\"))\n",
    "for num_tabla in range(1, n+1, 1):    \n",
    "    print(\"-------------------------\")\n",
    "    print(f\"TABLA DEL {num_tabla}\\n\")\n",
    "    for elemento in range(1, 11):\n",
    "        res = elemento*num_tabla\n",
    "        print(f\"{num_tabla}*{elemento}={res}\")       \n",
    "    print(\"-------------------------\\n\")"
   ]
  },
  {
   "cell_type": "markdown",
   "metadata": {
    "slideshow": {
     "slide_type": "subslide"
    }
   },
   "source": [
    "- En general, vemos que el código utilizando **for** es más compacto, por lo que podemos decir que si nuestro ciclo se puede definir como una serie de pasos fija con una variación predefinida, el **for** es la mejor opción.\n",
    "\n",
    "- En cambio, si es necesario utilizar una operación para terminar el ciclo, se hará necesario utilizar **while** en vez de for. Un ejemplo de esto: nuestro programa para calcular primos.\n",
    "\n",
    "- Por otro lado, también se hace evidente que vamos a necesitar la misma cantidad de **for** o de **while** anidados para representar soluciones donde ambas opciones son válidas."
   ]
  },
  {
   "cell_type": "markdown",
   "metadata": {
    "slideshow": {
     "slide_type": "slide"
    }
   },
   "source": [
    "<center> <h1> Instrucciones continue y break </h1> </center>\n",
    "\n",
    "- Estas dos instrucciones facilitan el desarrollo de algoritmos con mayor complejidad.\n",
    "\n",
    "- La instrucción **continue** (continuar) interrumpe la ejecución de las instrucciones que vienen después del mismo en *una* iteración del ciclo **while** o **for**.\n",
    "\n",
    "- Mientras tanto, la instrucción **break** (romper) hace que se detenga por completo la ejecución de la iteración actual y de todas las iteraciones que vienen después."
   ]
  },
  {
   "cell_type": "markdown",
   "metadata": {
    "slideshow": {
     "slide_type": "subslide"
    }
   },
   "source": [
    "<center> <h1> Estructuras generales del continue </h1> </center>\n",
    "<br/>\n",
    "<br/>\n",
    "<center><img src=\"img/sem2_continue.png\"> </center>"
   ]
  },
  {
   "cell_type": "markdown",
   "metadata": {
    "slideshow": {
     "slide_type": "subslide"
    }
   },
   "source": [
    "<center> <h1> Ejercicios con continue </h1> </center>\n",
    "\n",
    "- Elaborar un algoritmo que imprima todos los números divisibles por 3 en un rango m, n definido por el usuario (m < n). Pista: utílice **for**."
   ]
  },
  {
   "cell_type": "code",
   "execution_count": 83,
   "metadata": {
    "slideshow": {
     "slide_type": "fragment"
    }
   },
   "outputs": [
    {
     "name": "stdout",
     "output_type": "stream",
     "text": [
      "Ingrese el número m: 6\n",
      "Ingrese el número m: 9\n",
      "6\n",
      "Vamos a saltarnos el 7\n",
      "Vamos a saltarnos el 8\n",
      "9\n"
     ]
    }
   ],
   "source": [
    "m = int(input(\"Ingrese el número m: \"))\n",
    "n = int(input(\"Ingrese el número m: \"))\n",
    "\n",
    "for numero in range(m, n+1):\n",
    "    if numero%3!=0:\n",
    "        continue\n",
    "    print(numero)"
   ]
  },
  {
   "cell_type": "markdown",
   "metadata": {
    "slideshow": {
     "slide_type": "subslide"
    }
   },
   "source": [
    "<center> <h1> Ejercicios con continue </h1> </center>\n",
    "\n",
    "- Elaborar un algoritmo que cuente las piezas buenas (1) y malas (0) que un revisor de línea de producción evalúa. Cada vez que el revisor encuentre una pieza buena, el algoritmo debe imprimir el número de piezas buenas y malas hasta el momento. Para indicar que ya no hay más piezas, utilice -1. Pista: utílice **while**."
   ]
  },
  {
   "cell_type": "code",
   "execution_count": 85,
   "metadata": {
    "slideshow": {
     "slide_type": "fragment"
    }
   },
   "outputs": [
    {
     "name": "stdout",
     "output_type": "stream",
     "text": [
      "Ingrese el estado de la pieza [0 mala, 1 buena, -1 para salir]: 0\n",
      "Ingrese el estado de la pieza [0 mala, 1 buena, -1 para salir]: 1\n",
      "Llevamos 1 piezas malas y 1 piezas buenas\n",
      "Ingrese el estado de la pieza [0 mala, 1 buena, -1 para salir]: 1\n",
      "Llevamos 1 piezas malas y 2 piezas buenas\n",
      "Ingrese el estado de la pieza [0 mala, 1 buena, -1 para salir]: 1\n",
      "Llevamos 1 piezas malas y 3 piezas buenas\n",
      "Ingrese el estado de la pieza [0 mala, 1 buena, -1 para salir]: -1\n"
     ]
    }
   ],
   "source": [
    "buenas = 0\n",
    "malas = 0\n",
    "\n",
    "while True:\n",
    "    pieza = int(input(\"Ingrese el estado de la pieza [0 mala, 1 buena, -1 para salir]: \"))\n",
    "    if pieza == -1:\n",
    "        break\n",
    "    if pieza == 0:\n",
    "        malas+=1\n",
    "        continue\n",
    "    buenas+=1\n",
    "    print(f\"Llevamos {malas} piezas malas y {buenas} piezas buenas\")\n",
    "    \n",
    "        "
   ]
  },
  {
   "cell_type": "markdown",
   "metadata": {
    "slideshow": {
     "slide_type": "subslide"
    }
   },
   "source": [
    "<center> <h1> Consideraciones sobre el continue </h1> </center>\n",
    "\n",
    "- El **continue** puede llevarnos a ciclos infinitos si lo combinamos con la instrucción **while**. Esto pasa cuando ponemos la instrucción que actualiza el valor de la variable controladora *después* del continue, ya que la variable controladora nunca llegará a actualizarse.\n",
    "\n",
    "- La instrucción **continue** tiene una función parecida a una estructura condicional **if-else**, y puede reemplazarse fácilmente por una de estas (aunque le añadiríamos un nivel de indentación extra al código).\n",
    "\n",
    "- El continue solo se usa en estructuras de ciclo y siempre va sin acompañar por otras instrucciones en una sola línea."
   ]
  },
  {
   "cell_type": "markdown",
   "metadata": {
    "slideshow": {
     "slide_type": "slide"
    }
   },
   "source": [
    "<center> <h1> Estructuras generales del break </h1> </center>\n",
    "<br/>\n",
    "<br/>\n",
    "<center><img src=\"img/sem2_break.png\"> </center>\n",
    "\n",
    "Nota: al igual que el continue, el break ocupa por sí solo una línea de código y solo se usa en estructuras de ciclo."
   ]
  },
  {
   "cell_type": "markdown",
   "metadata": {
    "slideshow": {
     "slide_type": "subslide"
    }
   },
   "source": [
    "<center> <h1> Ejemplo del break </h1> </center>\n",
    "\n",
    "- Elabore un algoritmo que determine si un número es primo o no. Si el número es par, debe indicar que NO es primo. Si el número es divisible por cualquier otro número, debe indicar por qué número es divisible. Si es primo, debe imprimir que es primo."
   ]
  },
  {
   "cell_type": "code",
   "execution_count": 94,
   "metadata": {
    "slideshow": {
     "slide_type": "fragment"
    }
   },
   "outputs": [
    {
     "name": "stdout",
     "output_type": "stream",
     "text": [
      "entre número entero 333\n",
      "333 NO es primo, es divisible por 3\n"
     ]
    }
   ],
   "source": [
    "x = int(input(\"entre número entero \"))\n",
    "if x % 2 == 0:\n",
    "    print(x, \"Es número par\")\n",
    "else:\n",
    "    i = 3\n",
    "    while i < int(x**(1/2)) + 1: \n",
    "        \n",
    "        if x % i == 0:\n",
    "            print(x, \"NO es primo, es divisible por\", i)\n",
    "            break\n",
    "        i+= 2\n",
    "    if x % i != 0:\n",
    "        print(x, \"es primo\")"
   ]
  },
  {
   "cell_type": "markdown",
   "metadata": {
    "slideshow": {
     "slide_type": "subslide"
    }
   },
   "source": [
    "<center> <h1> Ejercicios con break </h1> </center>\n",
    "\n",
    "- Elaborar un algoritmo que cuente las piezas buenas (1) y malas (0) que un revisor de línea de producción evalúa. Si el revisor llega a encontrar más de 3 piezas malas debe pararse la línea de producción. Si se acaban las piezas a evaluar, se pasa el valor -1 en vez de 1 o 0.\n"
   ]
  },
  {
   "cell_type": "code",
   "execution_count": null,
   "metadata": {
    "slideshow": {
     "slide_type": "fragment"
    }
   },
   "outputs": [],
   "source": []
  },
  {
   "cell_type": "markdown",
   "metadata": {
    "slideshow": {
     "slide_type": "slide"
    }
   },
   "source": [
    "<center> <h1> Bonus: la instrucción pass </h1> </center>\n",
    "\n",
    "- La instrucción **pass** se puede utilizar para implementar bocetos de la estructura del código sin tener que colocar líneas adicionales.\n"
   ]
  },
  {
   "cell_type": "code",
   "execution_count": 98,
   "metadata": {
    "slideshow": {
     "slide_type": "fragment"
    }
   },
   "outputs": [],
   "source": [
    "for i in range(10):\n",
    "    pass\n",
    "\n",
    "i = 0\n",
    "while i <= 10:\n",
    "    i+=1\n",
    "    pass\n",
    "\n",
    "if x == 20:\n",
    "    pass\n",
    "elif x < 10:\n",
    "    pass\n",
    "else:\n",
    "    pass"
   ]
  },
  {
   "cell_type": "markdown",
   "metadata": {
    "slideshow": {
     "slide_type": "slide"
    }
   },
   "source": [
    "<center> <h1> Términos para recordar </h1> </center>\n",
    "\n",
    "\n",
    "<br/>\n",
    "<br/>\n",
    "<br/>\n",
    "<center> <img src=\"img/sem2_glosario.png\"></center>"
   ]
  },
  {
   "cell_type": "code",
   "execution_count": null,
   "metadata": {},
   "outputs": [],
   "source": []
  }
 ],
 "metadata": {
  "celltoolbar": "Slideshow",
  "kernelspec": {
   "display_name": "Python 3",
   "language": "python",
   "name": "python3"
  },
  "language_info": {
   "codemirror_mode": {
    "name": "ipython",
    "version": 3
   },
   "file_extension": ".py",
   "mimetype": "text/x-python",
   "name": "python",
   "nbconvert_exporter": "python",
   "pygments_lexer": "ipython3",
   "version": "3.7.9"
  }
 },
 "nbformat": 4,
 "nbformat_minor": 4
}
